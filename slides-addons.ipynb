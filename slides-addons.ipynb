{
 "cells": [
  {
   "cell_type": "markdown",
   "metadata": {},
   "source": [
    "# Hoofdstuk 15 - Databases\n",
    "\n",
    "In de slides behorende bij hoofdstuk 15 wordt uitgebreid ingegaan op SQL en op database normalisatie. Als het goed is weten jullie dat allemaal nog van het vak Computer Forensics & Gegevensbeheer wat vorig jaar gegeven is.\n",
    "\n",
    "Helaas staan in de slides geen Python voorbeelden hoe je SQL queries vanuit je eigen script kunt aanroepen.\n",
    "\n",
    "Voor iedere database is er wel een Python module te vinden om hier mee te connecten. Deze zullen allemaal heel erg op elkaar lijken. In deze notebook zullen we gebruik maken van de bij jullie reeds bekende SQlite.\n",
    "\n",
    "Allereerst moeten we de sqlite3 module importeren in ons script. Er is verder geen noodzaak om hiervoor iets te moeten installeren aangezien elke Python interpreter reeds wordt meegeleverd met deze module.\n",
    "\n",
    "## Initialisatie"
   ]
  },
  {
   "cell_type": "code",
   "execution_count": 1,
   "metadata": {},
   "outputs": [],
   "source": [
    "import sqlite3"
   ]
  },
  {
   "cell_type": "markdown",
   "metadata": {},
   "source": [
    "Vervolgens moet een database bestand worden geopend. Vergelijk dit met het openen van een tekstbestand met de `open()` functie. We gebruiken hiervoor de `sqlite3.connect()` functie voor."
   ]
  },
  {
   "cell_type": "code",
   "execution_count": 2,
   "metadata": {},
   "outputs": [],
   "source": [
    "connection = sqlite3.connect('example.db')"
   ]
  },
  {
   "cell_type": "code",
   "execution_count": 3,
   "metadata": {},
   "outputs": [
    {
     "data": {
      "text/plain": [
       "sqlite3.Connection"
      ]
     },
     "execution_count": 3,
     "metadata": {},
     "output_type": "execute_result"
    }
   ],
   "source": [
    "type(connection)"
   ]
  },
  {
   "cell_type": "markdown",
   "metadata": {},
   "source": [
    "## Bevragen van een database connectie"
   ]
  },
  {
   "cell_type": "code",
   "execution_count": 4,
   "metadata": {},
   "outputs": [
    {
     "name": "stdout",
     "output_type": "stream",
     "text": [
      "Help on method_descriptor:\n",
      "\n",
      "execute(...)\n",
      "    Executes a SQL statement. Non-standard.\n",
      "\n"
     ]
    }
   ],
   "source": [
    "help(sqlite3.Connection.execute)"
   ]
  },
  {
   "cell_type": "markdown",
   "metadata": {},
   "source": [
    "Zoals je ziet is de `execute()` functie niet standaard voor een typische database connectie. Veruit de meeste database modules gebruiken een `cursor` object."
   ]
  },
  {
   "cell_type": "code",
   "execution_count": 5,
   "metadata": {},
   "outputs": [],
   "source": [
    "cursor = connection.cursor()"
   ]
  },
  {
   "cell_type": "code",
   "execution_count": 6,
   "metadata": {},
   "outputs": [
    {
     "data": {
      "text/plain": [
       "sqlite3.Cursor"
      ]
     },
     "execution_count": 6,
     "metadata": {},
     "output_type": "execute_result"
    }
   ],
   "source": [
    "type(cursor)"
   ]
  },
  {
   "cell_type": "code",
   "execution_count": 7,
   "metadata": {},
   "outputs": [
    {
     "name": "stdout",
     "output_type": "stream",
     "text": [
      "Help on method_descriptor:\n",
      "\n",
      "execute(...)\n",
      "    Executes a SQL statement.\n",
      "\n"
     ]
    }
   ],
   "source": [
    "help(sqlite3.Cursor.execute)"
   ]
  },
  {
   "cell_type": "code",
   "execution_count": 8,
   "metadata": {},
   "outputs": [
    {
     "data": {
      "text/plain": [
       "<sqlite3.Cursor at 0x7f305d5eb8f0>"
      ]
     },
     "execution_count": 8,
     "metadata": {},
     "output_type": "execute_result"
    }
   ],
   "source": [
    "cursor.execute('SELECT * FROM Users')"
   ]
  },
  {
   "cell_type": "markdown",
   "metadata": {},
   "source": [
    "Je verwacht op dit punt waarschijnlijk de inhoud van de tabel te zien, zoals je bij de sqlite command line tool gewend was.\n",
    "\n",
    "De SQL query is weliswaar uitgevoerd, maar de uitkomst moet nog wel worden uitgelezen in Python, bijvoorbeeld door een `for` lusje."
   ]
  },
  {
   "cell_type": "code",
   "execution_count": 9,
   "metadata": {},
   "outputs": [
    {
     "name": "stdout",
     "output_type": "stream",
     "text": [
      "('Charles', 'csev@umich.edu')\n",
      "('Colleen', 'cvl@umich.edu')\n",
      "('Sally', 'a1@umich.edu')\n",
      "('Kristen', 'kf@umich.edu')\n",
      "('Richard Brinkman', 'r.brinkman@saxion.nl')\n",
      "('Brinkman', None)\n",
      "('Brinkman', None)\n",
      "('Brinkman', None)\n"
     ]
    }
   ],
   "source": [
    "for row in cursor:\n",
    "    print(row)"
   ]
  },
  {
   "cell_type": "markdown",
   "metadata": {},
   "source": [
    "Zoals je ziet gedraagt een `cursor` object zich (binnen een `for` lus) als een lijst van `tuple`'s.\n",
    "\n",
    "Maar een `cursor` object kan veel meer:"
   ]
  },
  {
   "cell_type": "code",
   "execution_count": 10,
   "metadata": {},
   "outputs": [
    {
     "name": "stdout",
     "output_type": "stream",
     "text": [
      "Help on class Cursor in module sqlite3:\n",
      "\n",
      "class Cursor(builtins.object)\n",
      " |  SQLite database cursor class.\n",
      " |  \n",
      " |  Methods defined here:\n",
      " |  \n",
      " |  __init__(self, /, *args, **kwargs)\n",
      " |      Initialize self.  See help(type(self)) for accurate signature.\n",
      " |  \n",
      " |  __iter__(self, /)\n",
      " |      Implement iter(self).\n",
      " |  \n",
      " |  __new__(*args, **kwargs) from builtins.type\n",
      " |      Create and return a new object.  See help(type) for accurate signature.\n",
      " |  \n",
      " |  __next__(self, /)\n",
      " |      Implement next(self).\n",
      " |  \n",
      " |  close(...)\n",
      " |      Closes the cursor.\n",
      " |  \n",
      " |  execute(...)\n",
      " |      Executes a SQL statement.\n",
      " |  \n",
      " |  executemany(...)\n",
      " |      Repeatedly executes a SQL statement.\n",
      " |  \n",
      " |  executescript(...)\n",
      " |      Executes a multiple SQL statements at once. Non-standard.\n",
      " |  \n",
      " |  fetchall(...)\n",
      " |      Fetches all rows from the resultset.\n",
      " |  \n",
      " |  fetchmany(...)\n",
      " |      Fetches several rows from the resultset.\n",
      " |  \n",
      " |  fetchone(...)\n",
      " |      Fetches one row from the resultset.\n",
      " |  \n",
      " |  setinputsizes(...)\n",
      " |      Required by DB-API. Does nothing in pysqlite.\n",
      " |  \n",
      " |  setoutputsize(...)\n",
      " |      Required by DB-API. Does nothing in pysqlite.\n",
      " |  \n",
      " |  ----------------------------------------------------------------------\n",
      " |  Data descriptors defined here:\n",
      " |  \n",
      " |  arraysize\n",
      " |  \n",
      " |  connection\n",
      " |  \n",
      " |  description\n",
      " |  \n",
      " |  lastrowid\n",
      " |  \n",
      " |  row_factory\n",
      " |  \n",
      " |  rowcount\n",
      "\n"
     ]
    }
   ],
   "source": [
    "help(sqlite3.Cursor)"
   ]
  },
  {
   "cell_type": "markdown",
   "metadata": {},
   "source": [
    "Feitelijk wordt bij gebruik van een `for` lus dus eerst de `fetchall()` functie aangeroepen:"
   ]
  },
  {
   "cell_type": "code",
   "execution_count": 11,
   "metadata": {},
   "outputs": [
    {
     "data": {
      "text/plain": [
       "[('Charles', 'csev@umich.edu'),\n",
       " ('Colleen', 'cvl@umich.edu'),\n",
       " ('Sally', 'a1@umich.edu'),\n",
       " ('Kristen', 'kf@umich.edu'),\n",
       " ('Richard Brinkman', 'r.brinkman@saxion.nl'),\n",
       " ('Brinkman', None),\n",
       " ('Brinkman', None),\n",
       " ('Brinkman', None)]"
      ]
     },
     "execution_count": 11,
     "metadata": {},
     "output_type": "execute_result"
    }
   ],
   "source": [
    "cursor.execute('SELECT * FROM Users')\n",
    "cursor.fetchall()"
   ]
  },
  {
   "cell_type": "markdown",
   "metadata": {},
   "source": [
    "Je kunt ook één voor één de rows opvragen:"
   ]
  },
  {
   "cell_type": "code",
   "execution_count": 12,
   "metadata": {},
   "outputs": [
    {
     "data": {
      "text/plain": [
       "('Charles', 'csev@umich.edu')"
      ]
     },
     "execution_count": 12,
     "metadata": {},
     "output_type": "execute_result"
    }
   ],
   "source": [
    "cursor.execute('SELECT * FROM Users')\n",
    "cursor.fetchone()"
   ]
  },
  {
   "cell_type": "code",
   "execution_count": 13,
   "metadata": {},
   "outputs": [
    {
     "data": {
      "text/plain": [
       "('Colleen', 'cvl@umich.edu')"
      ]
     },
     "execution_count": 13,
     "metadata": {},
     "output_type": "execute_result"
    }
   ],
   "source": [
    "cursor.fetchone()"
   ]
  },
  {
   "cell_type": "markdown",
   "metadata": {},
   "source": [
    "Het restant wat dan overblijft is dan:"
   ]
  },
  {
   "cell_type": "code",
   "execution_count": 14,
   "metadata": {},
   "outputs": [
    {
     "data": {
      "text/plain": [
       "[('Sally', 'a1@umich.edu'),\n",
       " ('Kristen', 'kf@umich.edu'),\n",
       " ('Richard Brinkman', 'r.brinkman@saxion.nl'),\n",
       " ('Brinkman', None),\n",
       " ('Brinkman', None),\n",
       " ('Brinkman', None)]"
      ]
     },
     "execution_count": 14,
     "metadata": {},
     "output_type": "execute_result"
    }
   ],
   "source": [
    "cursor.fetchall()"
   ]
  },
  {
   "cell_type": "markdown",
   "metadata": {},
   "source": [
    "De elementen van een cursor zijn dus maar eenmalig op te vragen. Heb je ze dus vaker nodig in je Python script dan zul je de lijst in een variabele moeten opslaan.\n",
    "\n",
    "Als een cursor alle elementen heeft ge`fetch`ed, dan blijft er een lege lijst over:"
   ]
  },
  {
   "cell_type": "code",
   "execution_count": 15,
   "metadata": {},
   "outputs": [
    {
     "data": {
      "text/plain": [
       "[]"
      ]
     },
     "execution_count": 15,
     "metadata": {},
     "output_type": "execute_result"
    }
   ],
   "source": [
    "cursor.fetchall()"
   ]
  },
  {
   "cell_type": "code",
   "execution_count": 16,
   "metadata": {},
   "outputs": [
    {
     "name": "stdout",
     "output_type": "stream",
     "text": [
      "None\n"
     ]
    }
   ],
   "source": [
    "print(cursor.fetchone())"
   ]
  },
  {
   "cell_type": "markdown",
   "metadata": {},
   "source": [
    "## INSERT queries\n",
    "\n",
    "Een enkele regel toevoegen aan een tabel gaat als volgt:"
   ]
  },
  {
   "cell_type": "code",
   "execution_count": null,
   "metadata": {},
   "outputs": [],
   "source": [
    "cursor.execute('INSERT INTO Users(name, email) VALUES (?, ?)', ('Richard Brinkman', 'r.brinkman@saxion.nl'))"
   ]
  },
  {
   "cell_type": "markdown",
   "metadata": {},
   "source": [
    "### SQL injection attack\n",
    "\n",
    "Zoals je ziet gebruiken we placeholders i.p.v. direct een SQL query als\n",
    "\n",
    "```sql\n",
    "INSERT INTO Users(name, email) VALUES ('Richard Brinkman', 'r.brinkman@saxion.nl')\n",
    "```\n",
    "\n",
    "Als de data die je wilt inserten namelijk afkomstig is van een onbetrouwbare bron (bijvoorbeeld hacker die een formuliertje invoert op een website), wil je deze niet direct in de query zetten.\n",
    "\n",
    "Beschouw deze gevaarlijke code:"
   ]
  },
  {
   "cell_type": "code",
   "execution_count": null,
   "metadata": {},
   "outputs": [],
   "source": [
    "name = input('Wat is uw naam')\n",
    "sql = \"INSERT INTO Users(name) VALUES ('\" + name + \"');\"\n",
    "cursor.executescript(sql)"
   ]
  },
  {
   "cell_type": "markdown",
   "metadata": {},
   "source": [
    "Zolang je \"normale\" data opgeeft gaat het weliswaar goed, maar wat als de gebruiker iets intypt als:\n",
    "\n",
    "```sql\n",
    "Brinkman'); DELETE FROM Users WHERE name = 'Ted' AND ('' == '\n",
    "```\n",
    "\n",
    "Je zou dan 2 queries uitvoeren namelijk:\n",
    "```sql\n",
    "INSERT INTO Users(name) VALUES ('Brinkman'); DELETE FROM Users WHERE name = 'Ted' AND ('' == '')\n",
    "```"
   ]
  },
  {
   "cell_type": "code",
   "execution_count": null,
   "metadata": {},
   "outputs": [],
   "source": [
    "name = input('Wat is uw naam')\n",
    "sql = \"INSERT INTO Users(name) VALUES ('\" + name + \"');\"\n",
    "print(sql)\n",
    "cursor.executescript(sql)"
   ]
  },
  {
   "cell_type": "markdown",
   "metadata": {},
   "source": [
    "Gebruik daarom *altijd* placeholders als een deel van je query komt van een variabele."
   ]
  },
  {
   "cell_type": "code",
   "execution_count": null,
   "metadata": {},
   "outputs": [],
   "source": [
    "name = input('Wat is uw naam')\n",
    "cursor.execute('INSERT INTO Users(name) VALUES (?)', (name,))"
   ]
  },
  {
   "cell_type": "code",
   "execution_count": null,
   "metadata": {},
   "outputs": [],
   "source": [
    "cursor.execute(\"SELECT * FROM Users\")\n",
    "cursor.fetchall()"
   ]
  },
  {
   "cell_type": "markdown",
   "metadata": {},
   "source": [
    "## Meerdere regels tegelijk inserten\n",
    "\n",
    "Stel we hebben al een lijst van gegevens. Deze kunnen we met één enkele SQL query invoeren:"
   ]
  },
  {
   "cell_type": "code",
   "execution_count": null,
   "metadata": {},
   "outputs": [],
   "source": [
    "personen = [\n",
    "    ('Brinkman', 'r.brinkman@saxion.nl'),\n",
    "    ('van Tuinen', 'm.vantuinen@saxion.nl')\n",
    "]\n",
    "cursor.executemany('INSERT INTO Users(name, email) VALUES (?, ?)', personen)"
   ]
  },
  {
   "cell_type": "code",
   "execution_count": null,
   "metadata": {},
   "outputs": [],
   "source": [
    "cursor.execute('SELECT * FROM Users')\n",
    "cursor.fetchall()"
   ]
  },
  {
   "cell_type": "markdown",
   "metadata": {},
   "source": [
    "## Commit\n",
    "\n",
    "Alles wat je met een `connectie` object doet wordt niet direct weggeschreven naar schijf. Het bestand `example.db` is dus nog altijd niet veranderd dat gebeurt pas na het volgende commando:"
   ]
  },
  {
   "cell_type": "code",
   "execution_count": null,
   "metadata": {},
   "outputs": [],
   "source": []
  }
 ],
 "metadata": {
  "kernelspec": {
   "display_name": "Python 3",
   "language": "python",
   "name": "python3"
  },
  "language_info": {
   "codemirror_mode": {
    "name": "ipython",
    "version": 3
   },
   "file_extension": ".py",
   "mimetype": "text/x-python",
   "name": "python",
   "nbconvert_exporter": "python",
   "pygments_lexer": "ipython3",
   "version": "3.6.9"
  }
 },
 "nbformat": 4,
 "nbformat_minor": 4
}
